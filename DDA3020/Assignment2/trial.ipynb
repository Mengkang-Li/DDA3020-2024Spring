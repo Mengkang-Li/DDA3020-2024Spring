{
 "cells": [
  {
   "cell_type": "code",
   "execution_count": 4,
   "metadata": {},
   "outputs": [
    {
     "name": "stdout",
     "output_type": "stream",
     "text": [
      "0.052371901428583015\n"
     ]
    }
   ],
   "source": [
    "import math\n",
    "a = -6 / 15 * math.log2(6 / 15) - 9 / 15 * math.log2(9 / 15)\n",
    "\n",
    "b = 5 / 15 * (-3/5*math.log2(3/5) - 2/5*math.log2(2/5)) + 5 / 15 * (-3/5*math.log2(3/5) - 2/5*math.log2(2/5)) + 5 / 15 * (-4/5*math.log2(4/5) - 1/5*math.log2(1/5))\n",
    "\n",
    "c = -math.log2(1/3)\n",
    "\n",
    "print((a - b) / c)"
   ]
  },
  {
   "cell_type": "code",
   "execution_count": 5,
   "metadata": {},
   "outputs": [
    {
     "name": "stdout",
     "output_type": "stream",
     "text": [
      "0.8752356430750915\n"
     ]
    }
   ],
   "source": [
    "import math\n",
    "\n",
    "b = 5 / 15 * (-1*math.log2(1)) + 10/15 * math.log2(-8/10*math.log2(8/15) - 2/10*math.log2(2/10))\n",
    "\n",
    "c = -5/15 * math.log2(5/15) - 10/15 * math.log2(10/15)\n",
    "\n",
    "print((a - b) / c)"
   ]
  },
  {
   "cell_type": "code",
   "execution_count": 6,
   "metadata": {},
   "outputs": [
    {
     "name": "stdout",
     "output_type": "stream",
     "text": [
      "0.4325380677663126\n"
     ]
    }
   ],
   "source": [
    "import math \n",
    "\n",
    "c = -9/15 * math.log2(9/15) - 6/15*math.log2(6/15)\n",
    "\n",
    "b = 9/15 * (-6/9*math.log2(6/9)-3/9*math.log2(3/9)) + 6/15 * 0\n",
    "\n",
    "print((a - b) / c)"
   ]
  },
  {
   "cell_type": "code",
   "execution_count": 7,
   "metadata": {},
   "outputs": [
    {
     "name": "stdout",
     "output_type": "stream",
     "text": [
      "0.30039605255827506\n"
     ]
    }
   ],
   "source": [
    "import math\n",
    "\n",
    "c = -5/15 * math.log2(5/15) -6/15 * math.log2(6/15) -4/15 * math.log2(4/15)\n",
    "\n",
    "b = 5/15 * (-1/5 * math.log2(1/5) - 4/5 * math.log2(4/5)) + 6/15 * (-1/6 * math.log2(1/6) - 5/6 * math.log2(5/6)) + 4/15 * (0)\n",
    "\n",
    "print((a-b)/c)"
   ]
  },
  {
   "cell_type": "code",
   "execution_count": 8,
   "metadata": {},
   "outputs": [
    {
     "name": "stdout",
     "output_type": "stream",
     "text": [
      "0.26621013639166446\n"
     ]
    }
   ],
   "source": [
    "import math \n",
    "a = -4/10*math.log2(4/10) - 6/10*math.log2(6/10)\n",
    "\n",
    "c = -3/10*math.log2(3/10) - 4/10*math.log2(4/10)-3/10*math.log2(3/10)\n",
    "\n",
    "b = -3/10*(0) - 4/10*(math.log(1/2)) - 3/10*(1/3*math.log2(1/3) + 2/3*math.log2(2/3))\n",
    "\n",
    "print((a - b) / c)"
   ]
  },
  {
   "cell_type": "code",
   "execution_count": 9,
   "metadata": {},
   "outputs": [
    {
     "name": "stdout",
     "output_type": "stream",
     "text": [
      "1.0\n"
     ]
    }
   ],
   "source": [
    "import math\n",
    "\n",
    "c = -4/10*math.log2(4/10)-6/10*math.log2(6/10)\n",
    "\n",
    "b = -4/10 * 0 - 6/10 * 0\n",
    "\n",
    "print ((a - b) / c)"
   ]
  },
  {
   "cell_type": "code",
   "execution_count": 9,
   "metadata": {},
   "outputs": [
    {
     "data": {
      "text/plain": [
       "array([[-1., -1., -1.,  1.,  1.,  1.]])"
      ]
     },
     "execution_count": 9,
     "metadata": {},
     "output_type": "execute_result"
    }
   ],
   "source": [
    "from sklearn import svm\n",
    "import math\n",
    "clf = svm.SVC(kernel='rbf')\n",
    "x = [[0, 1], [1/math.sqrt(2), -1/math.sqrt(2)], [-1/math.sqrt(2), -1/math.sqrt(2)], \n",
    "     [0, math.sqrt(2)], [1, -1], [-1, -1]]\n",
    "y = [-1, -1, -1, 1, 1, 1]\n",
    "\n",
    "clf.fit(x, y)\n",
    "clf.dual_coef_\n",
    "\n"
   ]
  },
  {
   "cell_type": "code",
   "execution_count": 23,
   "metadata": {},
   "outputs": [
    {
     "data": {
      "text/plain": [
       "array([[-1., -1.,  1.,  1.]])"
      ]
     },
     "execution_count": 23,
     "metadata": {},
     "output_type": "execute_result"
    }
   ],
   "source": [
    "from sklearn import svm\n",
    "import math\n",
    "clf = svm.SVC(kernel='linear')\n",
    "x = [[0, 1], [1/2, 1/2], [0, 2], [1, 1]]\n",
    "y = [-1, -1, 1, 1]\n",
    "\n",
    "clf.fit(x, y)\n",
    "\n",
    "clf.dual_coef_\n",
    "\n"
   ]
  }
 ],
 "metadata": {
  "kernelspec": {
   "display_name": "DDA3020",
   "language": "python",
   "name": "python3"
  },
  "language_info": {
   "codemirror_mode": {
    "name": "ipython",
    "version": 3
   },
   "file_extension": ".py",
   "mimetype": "text/x-python",
   "name": "python",
   "nbconvert_exporter": "python",
   "pygments_lexer": "ipython3",
   "version": "3.12.1"
  }
 },
 "nbformat": 4,
 "nbformat_minor": 2
}
