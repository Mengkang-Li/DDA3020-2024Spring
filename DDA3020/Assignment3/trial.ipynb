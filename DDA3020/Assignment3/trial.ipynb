{
 "cells": [
  {
   "cell_type": "code",
   "execution_count": 3,
   "metadata": {},
   "outputs": [],
   "source": [
    "import numpy as np\n",
    "def conv(A_prev, stride, f, b, W):\n",
    "    Z = np.zeros([1, 2, 2, 3])\n",
    "    m, n_H, n_W, n_C = Z.shape\n",
    "    for batch in range(m):\n",
    "        # batch size \n",
    "        for he in range(n_H):\n",
    "            # height\n",
    "            for wi in range(n_W):\n",
    "                # width\n",
    "                for ch in range(n_C):\n",
    "                    # Channels\n",
    "                    mid_A_prev = A_prev[batch, he * stride: he * stride + f, wi * stride: wi * stride + f, :]\n",
    "                    Z[batch, he, wi, ch] = np.sum(mid_A_prev * W[:, :, ch].reshape(1, f, f, 1)) + b[:, :, :, ch]\n",
    "    return Z\n"
   ]
  },
  {
   "cell_type": "code",
   "execution_count": 6,
   "metadata": {},
   "outputs": [
    {
     "name": "stdout",
     "output_type": "stream",
     "text": [
      "(1, 3, 3, 1) (2, 2, 3) (1, 1, 1, 3)\n",
      "[[[[15. 18. 23.]\n",
      "   [14. 18. 20.]]\n",
      "\n",
      "  [[14. 23. 22.]\n",
      "   [15. 15. 19.]]]]\n",
      "(1, 2, 2, 3)\n",
      "216.0\n"
     ]
    },
    {
     "name": "stderr",
     "output_type": "stream",
     "text": [
      "C:\\Users\\Mengkang Li\\AppData\\Local\\Temp\\ipykernel_26524\\2652777040.py:14: DeprecationWarning: Conversion of an array with ndim > 0 to a scalar is deprecated, and will error in future. Ensure you extract a single element from your array before performing this operation. (Deprecated NumPy 1.25.)\n",
      "  Z[batch, he, wi, ch] = np.sum(mid_A_prev * W[:, :, ch].reshape(1, f, f, 1)) + b[:, :, :, ch]\n"
     ]
    }
   ],
   "source": [
    "import numpy as np\n",
    "A_prev = np.array([\n",
    "    [\n",
    "    [\n",
    "       [1], [2], [3]\n",
    "    ],\n",
    "    [\n",
    "       [3], [2], [1]\n",
    "    ],\n",
    "    [\n",
    "        [3], [1], [3]\n",
    "    ]\n",
    "    ]\n",
    "])\n",
    "\n",
    "W = np.array(\n",
    "    [[\n",
    "        [\n",
    "            1, 3, 1\n",
    "        ],\n",
    "        [\n",
    "            2, 1, 2\n",
    "        ]\n",
    "    ],\n",
    "    [\n",
    "        [\n",
    "            1, 3, 3\n",
    "        ],\n",
    "        [\n",
    "            3, 1, 3\n",
    "        ]\n",
    "    ]]\n",
    ")\n",
    "\n",
    "b = np.array([\n",
    "    [\n",
    "        [\n",
    "            [1, 2, 3]\n",
    "        ]\n",
    "    ]\n",
    "])\n",
    "print(A_prev.shape, W.shape, b.shape)\n",
    "Z = conv(A_prev=A_prev, stride=1, f=2, b=b, W=W)\n",
    "print(Z)\n",
    "print(Z.shape)\n",
    "print(Z.sum(axis=0).sum(axis=0).sum(axis=0).sum(axis=0))"
   ]
  },
  {
   "cell_type": "code",
   "execution_count": 20,
   "metadata": {},
   "outputs": [
    {
     "name": "stdout",
     "output_type": "stream",
     "text": [
      "[[1 2]\n",
      " [1 3]]\n",
      "[[1 2]\n",
      " [3 2]]\n"
     ]
    }
   ],
   "source": [
    "print(W[:, :, 0])\n",
    "print(A_prev[0, 0: 2, 0: 2, 0])"
   ]
  },
  {
   "cell_type": "code",
   "execution_count": 21,
   "metadata": {},
   "outputs": [],
   "source": [
    "def pool_forward(A_prev, f, stride):\n",
    "    \"\"\"\n",
    "    Inputs:\n",
    "    - A_prev: The activation output from the previous layer, with dimension of (m, n_H_prev, n_W_prev, n_C_prev)\n",
    "    - (1) m is the batch size (2) n_H_prev is the height of previous output\n",
    "    - (3) n_W_prev is the width of the previous output (4) n_C_prev is the number of channels from the previous output\n",
    "\n",
    "    - f: Integer, the height and width of the pooling windows\n",
    "    - stride: Integer, indicate how far the pooling move each time\n",
    "\n",
    "    Outputs:\n",
    "    - A: The output of the pooling layers, with dimension of (m, n_H, n_W, n_C)\n",
    "    - A_prev, f, stride, n_H, n_W, n_C\n",
    "\n",
    "    \"\"\"\n",
    "    (m, n_H_prev, n_W_prev, n_C_prev) = A_prev.shape\n",
    "\n",
    "    #####################################################################################\n",
    "    # TODO: Compute the height and weight of the output after convolution  #\n",
    "    # Replace None with your formula                       #\n",
    "    #####################################################################################\n",
    "    n_H = int (np.ceil((n_H_prev - f) / stride + 1))\n",
    "    n_W = int (np.ceil((n_W_prev - f) / stride + 1))\n",
    "    n_C = n_C_prev\n",
    "\n",
    "    # initialize the output\n",
    "    A = np.zeros((m, n_H, n_W, n_C))\n",
    "    #####################################################################################\n",
    "    # TODO: Implement the Pooling process                     #\n",
    "    # Hint: You can use a for loop to iterate all samples, H, W, C    #\n",
    "    #####################################################################################\n",
    "\n",
    "    for batch in range(m):\n",
    "        for he in range(n_H):\n",
    "            for wi in range(n_W):\n",
    "                for ch in range(n_C):\n",
    "                    A[batch][he][wi][ch] = np.max(A_prev[batch, stride * he: stride * he + f, stride * wi: stride * wi + f, ch])\n",
    "\n",
    "    #####################################################################################\n",
    "    #             End of Your Code                   #\n",
    "    #####################################################################################\n",
    "\n",
    "    assert(A.shape == (m, n_H, n_W, n_C))\n",
    "\n",
    "\n",
    "    return A, A_prev, f, stride, n_H, n_W, n_C"
   ]
  },
  {
   "cell_type": "code",
   "execution_count": 31,
   "metadata": {},
   "outputs": [
    {
     "name": "stdout",
     "output_type": "stream",
     "text": [
      "(1, 3, 3, 3)\n",
      "[[5]]\n",
      "[[[[3. 6. 7.]\n",
      "   [3. 6. 7.]]\n",
      "\n",
      "  [[3. 6. 7.]\n",
      "   [2. 4. 5.]]]]\n"
     ]
    }
   ],
   "source": [
    "p_test = np.array(\n",
    "    [\n",
    "        [\n",
    "            [\n",
    "            [2, 4, 5],\n",
    "            [3, 6, 7],\n",
    "            [1, 3, 2]\n",
    "            ],\n",
    "            [\n",
    "            [1, 3, 2],\n",
    "            [2, 4, 5],\n",
    "            [3, 6, 7]\n",
    "            ],\n",
    "            [\n",
    "            [3, 6, 7],\n",
    "            [1, 3, 2],\n",
    "            [2, 4, 5]\n",
    "            ]\n",
    "        ]\n",
    "    ]\n",
    ")\n",
    "print(p_test.shape)\n",
    "pool_result = pool_forward(p_test, 2, 2)\n",
    "print(p_test[0, 2: 4, 2: 4, 2])\n",
    "print(pool_result[0])"
   ]
  },
  {
   "cell_type": "code",
   "execution_count": 1,
   "metadata": {},
   "outputs": [
    {
     "name": "stdout",
     "output_type": "stream",
     "text": [
      "0\n",
      "2\n"
     ]
    }
   ],
   "source": [
    "for i in range(0, 4, 2):\n",
    "    print(i)"
   ]
  },
  {
   "cell_type": "code",
   "execution_count": 3,
   "metadata": {},
   "outputs": [
    {
     "name": "stdout",
     "output_type": "stream",
     "text": [
      "(2, 3)\n",
      "[ 6 15]\n"
     ]
    }
   ],
   "source": [
    "import numpy as np\n",
    "A = np.array([[1, 2, 3],\n",
    "     [4, 5, 6]])\n",
    "print(A.shape)\n",
    "print(np.sum(A, axis=1))"
   ]
  }
 ],
 "metadata": {
  "kernelspec": {
   "display_name": "DDA3020",
   "language": "python",
   "name": "python3"
  },
  "language_info": {
   "codemirror_mode": {
    "name": "ipython",
    "version": 3
   },
   "file_extension": ".py",
   "mimetype": "text/x-python",
   "name": "python",
   "nbconvert_exporter": "python",
   "pygments_lexer": "ipython3",
   "version": "3.12.1"
  }
 },
 "nbformat": 4,
 "nbformat_minor": 2
}
