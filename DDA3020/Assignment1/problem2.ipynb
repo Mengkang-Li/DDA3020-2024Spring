{
 "cells": [
  {
   "cell_type": "markdown",
   "metadata": {},
   "source": [
    "# DDA3020 Assignment 1 - Coding problem 2\n",
    "\n",
    "*Mengkang Li     <mengkangli@link.cuhk.edu.cn>*\n",
    "\n",
    "*School of Data Science, The Chinese University of Hongkong, Shenzhen*\n",
    "\n",
    "*2024.02.12*"
   ]
  },
  {
   "cell_type": "markdown",
   "metadata": {},
   "source": [
    "In this file, I will finish the second problem of dda3020 assignment1. "
   ]
  },
  {
   "cell_type": "markdown",
   "metadata": {},
   "source": [
    "## Step 1: Use numpy to implement linear regression with gradient descent"
   ]
  },
  {
   "cell_type": "code",
   "execution_count": 1,
   "metadata": {},
   "outputs": [],
   "source": [
    "# Train of linear regression\n",
    "\"\"\"\n",
    "\n",
    "train: \n",
    "predict: \n",
    "\n",
    "\"\"\"\n",
    "import numpy as np\n",
    "import pandas as pd\n",
    "class linear_regression():\n",
    "    def __init__(self):\n",
    "        self.w = None\n",
    "        self.X = None\n",
    "        self.y = None\n",
    "        self.loss_record = []\n",
    "\n",
    "    def train(self, X, y, alpha=0.005, gamma=0.00001, iteration=1000, random_state=None):\n",
    "        def gradient(w, X, y):\n",
    "            return np.dot(X.T, (np.dot(X, w) - y))\n",
    "        def loss(w, X, y):\n",
    "            return np.sqrt(np.mean((np.dot(X, w) - y)**2))\n",
    "        if random_state is not None:\n",
    "            np.random.seed(random_state)\n",
    "\n",
    "        X_sub = np.insert(X, 0, 1, axis=1)\n",
    "        w = np.random.uniform(0, 1, size=X_sub.shape[1])\n",
    "        grad = gradient(w, X_sub, y)\n",
    "        iter_num = 0\n",
    "        while np.linalg.norm(grad) >= gamma and iter_num < iteration: \n",
    "            w = w - grad * alpha\n",
    "            grad = gradient(w, X_sub, y)\n",
    "            lo = loss(w, X_sub, y)\n",
    "            self.loss_record.append(lo)\n",
    "            iter_num += 1\n",
    "        self.w = w\n",
    "    def predict(self, X):\n",
    "        X_sub = np.insert(X, 0, 1, axis=1)\n",
    "        y_pred = np.dot(X_sub, self.w.T) \n",
    "        return y_pred\n",
    "    def get_paras(self):\n",
    "        return self.w"
   ]
  },
  {
   "cell_type": "markdown",
   "metadata": {},
   "source": [
    "## Step 2: Train the model and check loss"
   ]
  },
  {
   "cell_type": "code",
   "execution_count": 2,
   "metadata": {},
   "outputs": [
    {
     "name": "stdout",
     "output_type": "stream",
     "text": [
      "(442, 10)\n",
      "(442,)\n"
     ]
    }
   ],
   "source": [
    "# Load the dataset and check the basic info of it\n",
    "\n",
    "from sklearn.datasets import load_diabetes\n",
    "\n",
    "data = load_diabetes().data\n",
    "targets = load_diabetes().target\n",
    "\n",
    "data = np.array(data)\n",
    "targets = np.array(targets)\n",
    "\n",
    "print(data.shape)\n",
    "print(targets.shape)"
   ]
  },
  {
   "cell_type": "code",
   "execution_count": 3,
   "metadata": {},
   "outputs": [],
   "source": [
    "# Split the dataset, train and predict. \n",
    "from sklearn.model_selection import train_test_split\n",
    "\n",
    "X_train, X_test, y_train, y_test = train_test_split(data, targets, test_size=0.2, random_state=314)\n",
    "\n",
    "lg = linear_regression()\n",
    "lg.train(X_train, y_train)\n",
    "y_pred = lg.predict(X_test)\n"
   ]
  },
  {
   "cell_type": "code",
   "execution_count": 4,
   "metadata": {},
   "outputs": [
    {
     "name": "stdout",
     "output_type": "stream",
     "text": [
      "Train RMSE: \t 53.79452469630373\n",
      "Test RMSE: \t 53.51329340198955\n"
     ]
    }
   ],
   "source": [
    "# Analysis\n",
    "\n",
    "from sklearn.metrics import mean_squared_error\n",
    "train_rmse = np.sqrt(mean_squared_error(y_train, lg.predict(X_train)))\n",
    "test_rmse = np.sqrt(mean_squared_error(y_test, y_pred))\n",
    "\n",
    "print(\"Train RMSE: \\t\", str(train_rmse))\n",
    "print(\"Test RMSE: \\t\", str(test_rmse))"
   ]
  },
  {
   "cell_type": "code",
   "execution_count": 5,
   "metadata": {},
   "outputs": [
    {
     "data": {
      "image/png": "[encoded data removed]",
      "text/plain": [
       "<Figure size 640x480 with 1 Axes>"
      ]
     },
     "metadata": {},
     "output_type": "display_data"
    }
   ],
   "source": [
    "# Plot the loss function\n",
    "\n",
    "import matplotlib.pyplot as plt\n",
    "\n",
    "loss = np.array(lg.loss_record)\n",
    "plt.plot(np.arange(loss.shape[0]), loss)\n",
    "plt.xlabel(\"epoch\")\n",
    "plt.ylabel(\"loss\")\n",
    "plt.title(\"Loss Curve\")\n",
    "plt.show()"
   ]
  },
  {
   "cell_type": "markdown",
   "metadata": {},
   "source": [
    "## Step 3: Tuning the parameters"
   ]
  },
  {
   "cell_type": "code",
   "execution_count": 6,
   "metadata": {},
   "outputs": [],
   "source": [
    "# Choose different parameters\n",
    "import numpy as np\n",
    "\n",
    "step_sizes = np.arange(0.001, 0.011, 0.001)\n",
    "iterations = np.arange(100, 2100, 200)\n",
    "gammas = np.arange(0, 0.1, 0.01)\n",
    "\n"
   ]
  },
  {
   "cell_type": "code",
   "execution_count": 7,
   "metadata": {},
   "outputs": [
    {
     "name": "stdout",
     "output_type": "stream",
     "text": [
      "TUNING: step size = 0.001\n",
      "Train RMSE: 55.907887409184774\n",
      "Test RMSE: 55.563983706185496\n",
      "TUNING: step size = 0.002\n",
      "Train RMSE: 54.243912054966614\n",
      "Test RMSE: 54.12513849757022\n",
      "TUNING: step size = 0.003\n",
      "Train RMSE: 53.90202843134897\n",
      "Test RMSE: 53.71988622704383\n",
      "TUNING: step size = 0.004\n",
      "Train RMSE: 53.81917756076476\n",
      "Test RMSE: 53.574007837855106\n",
      "TUNING: step size = 0.005\n",
      "Train RMSE: 53.79446233065542\n",
      "Test RMSE: 53.51330107327865\n",
      "TUNING: step size = 0.006\n",
      "Train RMSE: 4.335053761320481e+50\n",
      "Test RMSE: 4.3347142840749285e+50\n",
      "TUNING: step size = 0.007\n",
      "Train RMSE: inf\n",
      "Test RMSE: inf\n",
      "TUNING: step size = 0.008\n",
      "Train RMSE: inf\n",
      "Test RMSE: inf\n",
      "TUNING: step size = 0.009000000000000001\n",
      "ERROR: The model cannot converge to a finite value.\n",
      "TUNING: step size = 0.010000000000000002\n",
      "ERROR: The model cannot converge to a finite value.\n"
     ]
    },
    {
     "name": "stderr",
     "output_type": "stream",
     "text": [
      "d:\\miniconda3\\envs\\dda3020\\Lib\\site-packages\\numpy\\core\\_methods.py:118: RuntimeWarning: overflow encountered in reduce\n",
      "  ret = umr_sum(arr, axis, dtype, out, keepdims, where=where)\n",
      "C:\\Users\\Mengkang Li\\AppData\\Local\\Temp\\ipykernel_213256\\1884676641.py:21: RuntimeWarning: overflow encountered in square\n",
      "  return np.sqrt(np.mean((np.dot(X, w) - y)**2))\n",
      "d:\\miniconda3\\envs\\dda3020\\Lib\\site-packages\\sklearn\\metrics\\_regression.py:478: RuntimeWarning: overflow encountered in square\n",
      "  output_errors = np.average((y_true - y_pred) ** 2, axis=0, weights=sample_weight)\n",
      "d:\\miniconda3\\envs\\dda3020\\Lib\\site-packages\\sklearn\\metrics\\_regression.py:478: RuntimeWarning: overflow encountered in square\n",
      "  output_errors = np.average((y_true - y_pred) ** 2, axis=0, weights=sample_weight)\n",
      "d:\\miniconda3\\envs\\dda3020\\Lib\\site-packages\\numpy\\core\\_methods.py:118: RuntimeWarning: overflow encountered in reduce\n",
      "  ret = umr_sum(arr, axis, dtype, out, keepdims, where=where)\n",
      "C:\\Users\\Mengkang Li\\AppData\\Local\\Temp\\ipykernel_213256\\1884676641.py:21: RuntimeWarning: overflow encountered in square\n",
      "  return np.sqrt(np.mean((np.dot(X, w) - y)**2))\n",
      "d:\\miniconda3\\envs\\dda3020\\Lib\\site-packages\\sklearn\\metrics\\_regression.py:478: RuntimeWarning: overflow encountered in square\n",
      "  output_errors = np.average((y_true - y_pred) ** 2, axis=0, weights=sample_weight)\n",
      "d:\\miniconda3\\envs\\dda3020\\Lib\\site-packages\\sklearn\\metrics\\_regression.py:478: RuntimeWarning: overflow encountered in square\n",
      "  output_errors = np.average((y_true - y_pred) ** 2, axis=0, weights=sample_weight)\n",
      "d:\\miniconda3\\envs\\dda3020\\Lib\\site-packages\\numpy\\core\\_methods.py:118: RuntimeWarning: overflow encountered in reduce\n",
      "  ret = umr_sum(arr, axis, dtype, out, keepdims, where=where)\n",
      "C:\\Users\\Mengkang Li\\AppData\\Local\\Temp\\ipykernel_213256\\1884676641.py:21: RuntimeWarning: overflow encountered in square\n",
      "  return np.sqrt(np.mean((np.dot(X, w) - y)**2))\n"
     ]
    }
   ],
   "source": [
    "# Train the model ---------- step size\n",
    "from sklearn.model_selection import train_test_split\n",
    "from sklearn.metrics import mean_squared_error\n",
    "from sklearn.datasets import load_diabetes\n",
    "\n",
    "data = load_diabetes().data\n",
    "target = load_diabetes().target\n",
    "\n",
    "for step_size in step_sizes:\n",
    "    print(\"TUNING: step size = \" + str(step_size))\n",
    "    X_train, X_test, y_train, y_test = train_test_split(data, target, test_size=0.2, random_state=314)\n",
    "    lr = linear_regression()\n",
    "    lr.train(X_train, y_train, alpha=step_size)\n",
    "    y_pred_train = lr.predict(X_train)\n",
    "    y_pred = lr.predict(X_test)\n",
    "\n",
    "    if np.any(np.isinf(y_pred)) or np.any(np.isinf(y_pred_train)):\n",
    "        print(\"ERROR: The model cannot converge to a finite value.\")\n",
    "        continue\n",
    "    print(\"Train RMSE: \" + str(np.sqrt(mean_squared_error(y_train, y_pred_train))))\n",
    "    print(\"Test RMSE: \" + str(np.sqrt(mean_squared_error(y_test, y_pred))))"
   ]
  },
  {
   "cell_type": "code",
   "execution_count": 8,
   "metadata": {},
   "outputs": [
    {
     "name": "stdout",
     "output_type": "stream",
     "text": [
      "TUNING: iteration = 100\n",
      "Train RMSE: 59.11962684787393\n",
      "Test RMSE: 58.146524358346774\n",
      "TUNING: iteration = 300\n",
      "Train RMSE: 54.745565454783865\n",
      "Test RMSE: 54.60032248783482\n",
      "TUNING: iteration = 500\n",
      "Train RMSE: 54.01157037792708\n",
      "Test RMSE: 53.86764079154969\n",
      "TUNING: iteration = 700\n",
      "Train RMSE: 53.847276584939955\n",
      "Test RMSE: 53.63043438066175\n",
      "TUNING: iteration = 900\n",
      "Train RMSE: 53.80348233091111\n",
      "Test RMSE: 53.53751269257334\n",
      "TUNING: iteration = 1100\n",
      "Train RMSE: 53.78888703783833\n",
      "Test RMSE: 53.49699111059314\n",
      "TUNING: iteration = 1300\n",
      "Train RMSE: 53.78211264456474\n",
      "Test RMSE: 53.4771893807074\n",
      "TUNING: iteration = 1500\n",
      "Train RMSE: 53.77804425460679\n",
      "Test RMSE: 53.466701873057964\n",
      "TUNING: iteration = 1700\n",
      "Train RMSE: 53.774726439458234\n",
      "Test RMSE: 53.4602638192953\n",
      "TUNING: iteration = 1900\n",
      "Train RMSE: 53.77216201217334\n",
      "Test RMSE: 53.45591439970531\n"
     ]
    }
   ],
   "source": [
    "# Train the model ---------- Iterations\n",
    "from sklearn.model_selection import train_test_split\n",
    "from sklearn.metrics import mean_squared_error\n",
    "from sklearn.datasets import load_diabetes\n",
    "\n",
    "data = load_diabetes().data\n",
    "target = load_diabetes().target\n",
    "\n",
    "for iteration in iterations:\n",
    "    print(\"TUNING: iteration = \" + str(iteration))\n",
    "    X_train, X_test, y_train, y_test = train_test_split(data, target, test_size=0.2, random_state=314)\n",
    "    lr = linear_regression()\n",
    "    lr.train(X_train, y_train, iteration=iteration)\n",
    "    y_pred_train = lr.predict(X_train)\n",
    "    y_pred = lr.predict(X_test)\n",
    "\n",
    "    if np.any(np.isinf(y_pred)) or np.any(np.isinf(y_pred_train)):\n",
    "        print(\"ERROR: The model cannot converge to a finite value.\")\n",
    "        continue\n",
    "    print(\"Train RMSE: \" + str(np.sqrt(mean_squared_error(y_train, y_pred_train))))\n",
    "    print(\"Test RMSE: \" + str(np.sqrt(mean_squared_error(y_test, y_pred))))"
   ]
  },
  {
   "cell_type": "code",
   "execution_count": 9,
   "metadata": {},
   "outputs": [
    {
     "name": "stdout",
     "output_type": "stream",
     "text": [
      "TUNING: gamma = 0.0\n",
      "Train RMSE: 53.7945079757642\n",
      "Test RMSE: 53.51350030500922\n",
      "TUNING: gamma = 0.01\n",
      "Train RMSE: 53.79437183752501\n",
      "Test RMSE: 53.513113885833896\n",
      "TUNING: gamma = 0.02\n",
      "Train RMSE: 53.794655106341075\n",
      "Test RMSE: 53.51358681400401\n",
      "TUNING: gamma = 0.03\n",
      "Train RMSE: 53.79461384508285\n",
      "Test RMSE: 53.513432694797956\n",
      "TUNING: gamma = 0.04\n",
      "Train RMSE: 53.7944649153218\n",
      "Test RMSE: 53.51316732617473\n",
      "TUNING: gamma = 0.05\n",
      "Train RMSE: 53.79451479221746\n",
      "Test RMSE: 53.51329761483402\n",
      "TUNING: gamma = 0.06\n",
      "Train RMSE: 53.79431719708405\n",
      "Test RMSE: 53.51300694338491\n",
      "TUNING: gamma = 0.07\n",
      "Train RMSE: 53.79462149495048\n",
      "Test RMSE: 53.51350370637522\n",
      "TUNING: gamma = 0.08\n",
      "Train RMSE: 53.79473689944641\n",
      "Test RMSE: 53.51365495074356\n",
      "TUNING: gamma = 0.09\n",
      "Train RMSE: 53.79437761501933\n",
      "Test RMSE: 53.51323963344149\n"
     ]
    }
   ],
   "source": [
    "# Train the model ---------- Terminal Gamma\n",
    "from sklearn.model_selection import train_test_split\n",
    "from sklearn.metrics import mean_squared_error\n",
    "from sklearn.datasets import load_diabetes\n",
    "\n",
    "data = load_diabetes().data\n",
    "target = load_diabetes().target\n",
    "\n",
    "for gamma in gammas:\n",
    "    print(\"TUNING: gamma = \" + str(gamma))\n",
    "    X_train, X_test, y_train, y_test = train_test_split(data, target, test_size=0.2, random_state=314)\n",
    "    lr = linear_regression()\n",
    "    lr.train(X_train, y_train, gamma=gamma)\n",
    "    y_pred_train = lr.predict(X_train)\n",
    "    y_pred = lr.predict(X_test)\n",
    "\n",
    "    if np.any(np.isinf(y_pred)) or np.any(np.isinf(y_pred_train)):\n",
    "        print(\"ERROR: The model cannot converge to a finite value.\")\n",
    "        continue\n",
    "    print(\"Train RMSE: \" + str(np.sqrt(mean_squared_error(y_train, y_pred_train))))\n",
    "    print(\"Test RMSE: \" + str(np.sqrt(mean_squared_error(y_test, y_pred))))"
   ]
  },
  {
   "cell_type": "code",
   "execution_count": 10,
   "metadata": {},
   "outputs": [
    {
     "name": "stdout",
     "output_type": "stream",
     "text": [
      "----------1----------\n",
      "TUNING: step size = 0.0005\n",
      "TUNING: iteration = 100\n",
      "Train RMSE: 73.2804079080204\n",
      "Test RMSE: 71.81630177869383\n",
      "----------2----------\n",
      "TUNING: step size = 0.0005\n",
      "TUNING: iteration = 1000\n",
      "Train RMSE: 59.14263533306856\n",
      "Test RMSE: 58.16840808191002\n",
      "----------3----------\n",
      "TUNING: step size = 0.0005\n",
      "TUNING: iteration = 10000\n",
      "Train RMSE: 53.794698721495884\n",
      "Test RMSE: 53.513844730115416\n",
      "----------4----------\n",
      "TUNING: step size = 0.001\n",
      "TUNING: iteration = 100\n",
      "Train RMSE: 70.08416138880258\n",
      "Test RMSE: 68.54889299814279\n",
      "----------5----------\n",
      "TUNING: step size = 0.001\n",
      "TUNING: iteration = 1000\n",
      "Train RMSE: 55.90923958036356\n",
      "Test RMSE: 55.5664713594169\n",
      "----------6----------\n",
      "TUNING: step size = 0.001\n",
      "TUNING: iteration = 10000\n",
      "Train RMSE: 53.7706473269497\n",
      "Test RMSE: 53.45373486675532\n",
      "----------7----------\n",
      "TUNING: step size = 0.005\n",
      "TUNING: iteration = 100\n",
      "Train RMSE: 59.115335731772525\n",
      "Test RMSE: 58.14479501820231\n",
      "----------8----------\n",
      "TUNING: step size = 0.005\n",
      "TUNING: iteration = 1000\n",
      "Train RMSE: 53.79455709985987\n",
      "Test RMSE: 53.51330376826398\n",
      "----------9----------\n",
      "TUNING: step size = 0.005\n",
      "TUNING: iteration = 10000\n",
      "Train RMSE: 53.6988568650811\n",
      "Test RMSE: 53.365504109921034\n",
      "----------10----------\n",
      "TUNING: step size = 0.01\n",
      "TUNING: iteration = 100\n",
      "Train RMSE: 3.114166020477161e+42\n",
      "Test RMSE: 3.1139221507212065e+42\n",
      "----------11----------\n",
      "TUNING: step size = 0.01\n",
      "TUNING: iteration = 1000\n",
      "The model cannot converge to a finite value.\n",
      "----------12----------\n",
      "TUNING: step size = 0.01\n",
      "TUNING: iteration = 10000\n",
      "The model cannot converge to a finite value.\n"
     ]
    },
    {
     "name": "stderr",
     "output_type": "stream",
     "text": [
      "d:\\miniconda3\\envs\\dda3020\\Lib\\site-packages\\numpy\\core\\_methods.py:118: RuntimeWarning: overflow encountered in reduce\n",
      "  ret = umr_sum(arr, axis, dtype, out, keepdims, where=where)\n",
      "C:\\Users\\Mengkang Li\\AppData\\Local\\Temp\\ipykernel_213256\\1884676641.py:21: RuntimeWarning: overflow encountered in square\n",
      "  return np.sqrt(np.mean((np.dot(X, w) - y)**2))\n"
     ]
    }
   ],
   "source": [
    "# Train the model ---------- step size\n",
    "from sklearn.model_selection import train_test_split\n",
    "from sklearn.metrics import mean_squared_error\n",
    "from sklearn.datasets import load_diabetes\n",
    "\n",
    "data = load_diabetes().data\n",
    "target = load_diabetes().target\n",
    "\n",
    "params = [\n",
    "    [0.0005, 100],\n",
    "    [0.0005, 1000],\n",
    "    [0.0005, 10000],\n",
    "    [0.001, 100],\n",
    "    [0.001, 1000],\n",
    "    [0.001, 10000],\n",
    "    [0.005, 100],\n",
    "    [0.005, 1000],\n",
    "    [0.005, 10000],\n",
    "    [0.01, 100],\n",
    "    [0.01, 1000],\n",
    "    [0.01, 10000],\n",
    "]\n",
    "count = 1\n",
    "for param in params:\n",
    "    print(f\"----------{count}----------\")\n",
    "    count += 1\n",
    "    step_size = param[0]\n",
    "    iteration = param[1]\n",
    "    print(\"TUNING: step size = \" + str(step_size))\n",
    "    print(\"TUNING: iteration = \" + str(iteration))\n",
    "    X_train, X_test, y_train, y_test = train_test_split(data, target, test_size=0.2, random_state=314)\n",
    "    lr = linear_regression()\n",
    "    lr.train(X_train, y_train, alpha=step_size, iteration=iteration)\n",
    "    y_pred_train = lr.predict(X_train)\n",
    "    y_pred = lr.predict(X_test)\n",
    "\n",
    "    if np.any(np.isinf(y_pred)) or np.any(np.isinf(y_pred_train)):\n",
    "        print(\"The model cannot converge to a finite value.\")\n",
    "        continue\n",
    "    print(\"Train RMSE: \" + str(np.sqrt(mean_squared_error(y_train, y_pred_train))))\n",
    "    print(\"Test RMSE: \" + str(np.sqrt(mean_squared_error(y_test, y_pred))))"
   ]
  }
 ],
 "metadata": {
  "kernelspec": {
   "display_name": "dda3020",
   "language": "python",
   "name": "python3"
  },
  "language_info": {
   "codemirror_mode": {
    "name": "ipython",
    "version": 3
   },
   "file_extension": ".py",
   "mimetype": "text/x-python",
   "name": "python",
   "nbconvert_exporter": "python",
   "pygments_lexer": "ipython3",
   "version": "3.12.1"
  }
 },
 "nbformat": 4,
 "nbformat_minor": 2
}
